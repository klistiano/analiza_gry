{
 "cells": [
  {
   "cell_type": "markdown",
   "metadata": {},
   "source": [
    "# Zadanie OneMoreGame"
   ]
  },
  {
   "cell_type": "markdown",
   "metadata": {},
   "source": [
    "Załóżmy, że rozważamy inwestycję kapitałową w spółkę produkującą klasyczne gry PC. Gry podobne\n",
    "do naszej analizowanej gry to:\n",
    "* Prison Architect\n",
    "* Stellaris\n",
    "* XCOM 2\n",
    "* Frostpunk\n",
    "* Northgrad\n",
    "* Ancestors Legacy\n",
    "* Pahtom Doctrine\n",
    "* Battle Star Galactica Deadlock\n",
    "\n",
    "Tagi opisujące najlepiej naszą grę to:\n",
    "* Simulation\n",
    "* RTS\n",
    "* Tactical\n",
    "* Turn Based Strategy\n",
    "* Building\n",
    "* Turn Based Tactic\n",
    "* Sci-Fi\n",
    "* Co-op\n",
    "\n",
    "Developer gry sugeruje rozpoczęcie rozmów z wydawcami:\n",
    "* Slitherine Ltd.\n",
    "* Team17 Digital. Ltd\n",
    "* Paradox Interactive\n",
    "* Maximum Games Kiss ltd\n",
    "* Assemble Entertainment\n",
    "\n",
    "Wykonaj następujące zadanie:\n",
    "* Pobierz dane z serwisu SteamSpy\n",
    "* Uzyskane dane przetwórz do jakiegoś sensownego formatu\n",
    "* Na podstawie tych danych podaj największe sukcesy w segmencie rynku gier opisanych tymi\n",
    "samymi tagami\n",
    "* Na podstawie tych danych podaj, który z powyższych wydawców posiada doświadczenie potrzebne\n",
    "do wydania naszej gry\n",
    "* Na podstawie tych danych określ, z którym z nich warto prowadzić rozmowy"
   ]
  },
  {
   "cell_type": "code",
   "execution_count": 1,
   "metadata": {},
   "outputs": [],
   "source": [
    "#import bibliotek\n",
    "import pandas as pd\n",
    "import requests\n",
    "import numpy as np\n",
    "import matplotlib.pyplot as plt\n",
    "import sys\n",
    "import seaborn as sns\n",
    "\n",
    "%matplotlib inline"
   ]
  },
  {
   "cell_type": "markdown",
   "metadata": {},
   "source": [
    "Dane z serwisu SteamSpy można pobrać na dwa sposoby. \n",
    "<br> Pierwszym z nich jest bezpośrednie odpytanie Steam Spy Api przy użyciu pythonowej biblioteki requests.\n",
    "Drugi sposób znalazłem przypadkowo.\n",
    "<br> Podczas zbierania wstępnych informacji o Steam Spy natknąłem się również na 'steamspypi' dostępną w dystrybucji pypi.org.\n",
    "<br> W pierwszym etapie zdecydowałem się na odpytywanie Steam Spy Api przy użyciu sposobu numer 1. Na samym końcu pokażę możliwości 'steamspypi'.\n",
    "\n",
    "Dokumentacja na temat steamspypi:\n",
    "https://github.com/woctezuma/steamspypi"
   ]
  },
  {
   "cell_type": "code",
   "execution_count": 2,
   "metadata": {},
   "outputs": [
    {
     "name": "stdout",
     "output_type": "stream",
     "text": [
      "Requirement already satisfied: steamspypi in /anaconda3/lib/python3.6/site-packages (1.0.0)\n",
      "Requirement already satisfied: requests in /anaconda3/lib/python3.6/site-packages (from steamspypi) (2.20.1)\n",
      "Requirement already satisfied: certifi>=2017.4.17 in /anaconda3/lib/python3.6/site-packages (from requests->steamspypi) (2018.11.29)\n",
      "Requirement already satisfied: idna<2.8,>=2.5 in /anaconda3/lib/python3.6/site-packages (from requests->steamspypi) (2.7)\n",
      "Requirement already satisfied: urllib3<1.25,>=1.21.1 in /anaconda3/lib/python3.6/site-packages (from requests->steamspypi) (1.23)\n",
      "Requirement already satisfied: chardet<3.1.0,>=3.0.2 in /anaconda3/lib/python3.6/site-packages (from requests->steamspypi) (3.0.4)\n"
     ]
    }
   ],
   "source": [
    "#instalacja steamspypi\n",
    "!pip install --prefix {sys.prefix} steamspypi"
   ]
  },
  {
   "cell_type": "code",
   "execution_count": 41,
   "metadata": {},
   "outputs": [],
   "source": [
    "import steamspypi"
   ]
  },
  {
   "cell_type": "markdown",
   "metadata": {},
   "source": [
    "### Pobieranie danych z serwisu SteamSpy oraz zapisanie do csv."
   ]
  },
  {
   "cell_type": "markdown",
   "metadata": {},
   "source": [
    "Pętla 'for' zapełni listę 'tag_list' pandasowymi dataframe.\n",
    "<br> Przy tworzeniu dataframów zdecydowałem się użyć następujących kolumn:'appid','developer','name','owners','positive', 'negative','publisher', 'score_rank','userscore','average_forever','median_forever'.\n",
    "\n",
    "Dodatkowo utworzyłem kolumne 'tag_name', która później przyda się podczas tworzenia tabel przestawnych."
   ]
  },
  {
   "cell_type": "code",
   "execution_count": 3,
   "metadata": {},
   "outputs": [],
   "source": [
    "tags = ['Simulation',\n",
    "        'RTS',\n",
    "        'Tactical',\n",
    "        'Turn Based Strategy',\n",
    "        'Building',\n",
    "        'Turn Based Tactic',\n",
    "        'Sci-Fi',\n",
    "        'Co-op']\n",
    "\n",
    "tag_list = []\n",
    "\n",
    "for tag in tags:\n",
    "    tag_ = tag.replace(' ','%').lower()\n",
    "    tag_response = requests.get('http://steamspy.com/api.php?request=tag&tag={}'.format(tag_))\n",
    "    tag_response_ = tag_response.json()\n",
    "    tag_response_df = pd.DataFrame(tag_response_).transpose().reset_index()\n",
    "    clean_tag_response_df = tag_response_df.loc[:,['appid','developer','name','owners',\n",
    "                                             'positive', 'negative','publisher',\n",
    "                                             'score_rank','userscore','average_forever', 'median_forever']]\n",
    "    clean_tag_response_df['tag_name'] = tag\n",
    "    tag_list.append(clean_tag_response_df)"
   ]
  },
  {
   "cell_type": "code",
   "execution_count": 4,
   "metadata": {},
   "outputs": [],
   "source": [
    "#łączenie dataframeów w całość\n",
    "df_tags = pd.concat(tag_list, ignore_index=True)"
   ]
  },
  {
   "cell_type": "code",
   "execution_count": 5,
   "metadata": {},
   "outputs": [
    {
     "data": {
      "text/html": [
       "<div>\n",
       "<style scoped>\n",
       "    .dataframe tbody tr th:only-of-type {\n",
       "        vertical-align: middle;\n",
       "    }\n",
       "\n",
       "    .dataframe tbody tr th {\n",
       "        vertical-align: top;\n",
       "    }\n",
       "\n",
       "    .dataframe thead th {\n",
       "        text-align: right;\n",
       "    }\n",
       "</style>\n",
       "<table border=\"1\" class=\"dataframe\">\n",
       "  <thead>\n",
       "    <tr style=\"text-align: right;\">\n",
       "      <th></th>\n",
       "      <th>appid</th>\n",
       "      <th>developer</th>\n",
       "      <th>name</th>\n",
       "      <th>owners</th>\n",
       "      <th>positive</th>\n",
       "      <th>negative</th>\n",
       "      <th>publisher</th>\n",
       "      <th>score_rank</th>\n",
       "      <th>userscore</th>\n",
       "      <th>average_forever</th>\n",
       "      <th>median_forever</th>\n",
       "      <th>tag_name</th>\n",
       "    </tr>\n",
       "  </thead>\n",
       "  <tbody>\n",
       "    <tr>\n",
       "      <th>0</th>\n",
       "      <td>570</td>\n",
       "      <td>Valve</td>\n",
       "      <td>Dota 2</td>\n",
       "      <td>100,000,000 .. 200,000,000</td>\n",
       "      <td>851989</td>\n",
       "      <td>137583</td>\n",
       "      <td>Valve</td>\n",
       "      <td>66</td>\n",
       "      <td>86</td>\n",
       "      <td>29522</td>\n",
       "      <td>595</td>\n",
       "      <td>Simulation</td>\n",
       "    </tr>\n",
       "    <tr>\n",
       "      <th>1</th>\n",
       "      <td>578080</td>\n",
       "      <td>PUBG Corporation</td>\n",
       "      <td>PLAYERUNKNOWN'S BATTLEGROUNDS</td>\n",
       "      <td>50,000,000 .. 100,000,000</td>\n",
       "      <td>485605</td>\n",
       "      <td>473832</td>\n",
       "      <td>PUBG Corporation</td>\n",
       "      <td>11</td>\n",
       "      <td>49</td>\n",
       "      <td>20043</td>\n",
       "      <td>10105</td>\n",
       "      <td>Simulation</td>\n",
       "    </tr>\n",
       "    <tr>\n",
       "      <th>2</th>\n",
       "      <td>227940</td>\n",
       "      <td>RETO MOTO</td>\n",
       "      <td>Heroes &amp; Generals</td>\n",
       "      <td>10,000,000 .. 20,000,000</td>\n",
       "      <td>64875</td>\n",
       "      <td>33565</td>\n",
       "      <td>RETO MOTO</td>\n",
       "      <td>26</td>\n",
       "      <td>65</td>\n",
       "      <td>1002</td>\n",
       "      <td>87</td>\n",
       "      <td>Simulation</td>\n",
       "    </tr>\n",
       "  </tbody>\n",
       "</table>\n",
       "</div>"
      ],
      "text/plain": [
       "    appid         developer                           name  \\\n",
       "0     570             Valve                         Dota 2   \n",
       "1  578080  PUBG Corporation  PLAYERUNKNOWN'S BATTLEGROUNDS   \n",
       "2  227940         RETO MOTO              Heroes & Generals   \n",
       "\n",
       "                       owners positive negative         publisher score_rank  \\\n",
       "0  100,000,000 .. 200,000,000   851989   137583             Valve         66   \n",
       "1   50,000,000 .. 100,000,000   485605   473832  PUBG Corporation         11   \n",
       "2    10,000,000 .. 20,000,000    64875    33565         RETO MOTO         26   \n",
       "\n",
       "  userscore average_forever median_forever    tag_name  \n",
       "0        86           29522            595  Simulation  \n",
       "1        49           20043          10105  Simulation  \n",
       "2        65            1002             87  Simulation  "
      ]
     },
     "execution_count": 5,
     "metadata": {},
     "output_type": "execute_result"
    }
   ],
   "source": [
    "df_tags.head(3)"
   ]
  },
  {
   "cell_type": "markdown",
   "metadata": {},
   "source": [
    "W kolejnym kroku zabrałem się za konwertowanie danych w kolumnach do typów kategorycznych oraz numerycznych.\n",
    "<br> Ten zabieg pozwoli mi na sprawne operowanie funkcjami aggregacyjnymi przy tworzeniu tabel przestawnych.\n",
    "<br> Dodaję również kolumnę 'avg owners', która jest wynikową (średnią) wartości minimalnej i maksymalnej z kolumny 'owners'.\n",
    "\n",
    "Dodatkowo typy te zmniejszą rozmiar pliku CSV."
   ]
  },
  {
   "cell_type": "code",
   "execution_count": 6,
   "metadata": {},
   "outputs": [],
   "source": [
    "#konwertowanie typów\n",
    "df_tags['developer'] = df_tags['developer'].astype('category') \n",
    "df_tags['publisher'] = df_tags['publisher'].astype('category')\n",
    "df_tags['tag_name'] = df_tags['tag_name'].astype('category')\n",
    "df_tags['positive'] = pd.to_numeric(df_tags['positive'])\n",
    "df_tags['negative'] = pd.to_numeric(df_tags['negative'])\n",
    "df_tags['score_rank'] = pd.to_numeric(df_tags['score_rank'])\n",
    "df_tags['userscore'] = pd.to_numeric(df_tags['userscore'])\n",
    "df_tags['average_forever'] = pd.to_numeric(df_tags['average_forever'])\n",
    "df_tags['median_forever'] = pd.to_numeric(df_tags['median_forever'])"
   ]
  },
  {
   "cell_type": "code",
   "execution_count": 7,
   "metadata": {},
   "outputs": [],
   "source": [
    "#tworzenie nowej columny z średnią wartością graczy\n",
    "owners = df_tags['owners'].str.replace(',','').str.split(' .. ',expand=True)\n",
    "owners.rename(columns={0:'minimum',1:'maximum'}, inplace=True)\n",
    "\n",
    "owners['minimum'] = pd.to_numeric(owners['minimum'])\n",
    "owners['maximum'] = pd.to_numeric(owners['maximum'])\n",
    "\n",
    "owners['avg_owners'] = (owners['maximum'] + owners['minimum']) // 2"
   ]
  },
  {
   "cell_type": "code",
   "execution_count": 8,
   "metadata": {},
   "outputs": [
    {
     "data": {
      "text/html": [
       "<div>\n",
       "<style scoped>\n",
       "    .dataframe tbody tr th:only-of-type {\n",
       "        vertical-align: middle;\n",
       "    }\n",
       "\n",
       "    .dataframe tbody tr th {\n",
       "        vertical-align: top;\n",
       "    }\n",
       "\n",
       "    .dataframe thead th {\n",
       "        text-align: right;\n",
       "    }\n",
       "</style>\n",
       "<table border=\"1\" class=\"dataframe\">\n",
       "  <thead>\n",
       "    <tr style=\"text-align: right;\">\n",
       "      <th></th>\n",
       "      <th>minimum</th>\n",
       "      <th>maximum</th>\n",
       "      <th>avg_owners</th>\n",
       "    </tr>\n",
       "  </thead>\n",
       "  <tbody>\n",
       "    <tr>\n",
       "      <th>0</th>\n",
       "      <td>100000000</td>\n",
       "      <td>200000000</td>\n",
       "      <td>150000000</td>\n",
       "    </tr>\n",
       "    <tr>\n",
       "      <th>1</th>\n",
       "      <td>50000000</td>\n",
       "      <td>100000000</td>\n",
       "      <td>75000000</td>\n",
       "    </tr>\n",
       "    <tr>\n",
       "      <th>2</th>\n",
       "      <td>10000000</td>\n",
       "      <td>20000000</td>\n",
       "      <td>15000000</td>\n",
       "    </tr>\n",
       "  </tbody>\n",
       "</table>\n",
       "</div>"
      ],
      "text/plain": [
       "     minimum    maximum  avg_owners\n",
       "0  100000000  200000000   150000000\n",
       "1   50000000  100000000    75000000\n",
       "2   10000000   20000000    15000000"
      ]
     },
     "execution_count": 8,
     "metadata": {},
     "output_type": "execute_result"
    }
   ],
   "source": [
    "owners.head(3)"
   ]
  },
  {
   "cell_type": "code",
   "execution_count": 9,
   "metadata": {},
   "outputs": [],
   "source": [
    "#łączenie tabeli\n",
    "df_tags_list = [df_tags, owners['avg_owners']]\n",
    "df_tags_2 = pd.concat(df_tags_list, axis=1)\n",
    "df_tags_2.drop(columns='owners', inplace=True)"
   ]
  },
  {
   "cell_type": "code",
   "execution_count": 10,
   "metadata": {},
   "outputs": [
    {
     "data": {
      "text/html": [
       "<div>\n",
       "<style scoped>\n",
       "    .dataframe tbody tr th:only-of-type {\n",
       "        vertical-align: middle;\n",
       "    }\n",
       "\n",
       "    .dataframe tbody tr th {\n",
       "        vertical-align: top;\n",
       "    }\n",
       "\n",
       "    .dataframe thead th {\n",
       "        text-align: right;\n",
       "    }\n",
       "</style>\n",
       "<table border=\"1\" class=\"dataframe\">\n",
       "  <thead>\n",
       "    <tr style=\"text-align: right;\">\n",
       "      <th></th>\n",
       "      <th>appid</th>\n",
       "      <th>developer</th>\n",
       "      <th>name</th>\n",
       "      <th>positive</th>\n",
       "      <th>negative</th>\n",
       "      <th>publisher</th>\n",
       "      <th>score_rank</th>\n",
       "      <th>userscore</th>\n",
       "      <th>average_forever</th>\n",
       "      <th>median_forever</th>\n",
       "      <th>tag_name</th>\n",
       "      <th>avg_owners</th>\n",
       "    </tr>\n",
       "  </thead>\n",
       "  <tbody>\n",
       "    <tr>\n",
       "      <th>0</th>\n",
       "      <td>570</td>\n",
       "      <td>Valve</td>\n",
       "      <td>Dota 2</td>\n",
       "      <td>851989</td>\n",
       "      <td>137583</td>\n",
       "      <td>Valve</td>\n",
       "      <td>66.0</td>\n",
       "      <td>86</td>\n",
       "      <td>29522</td>\n",
       "      <td>595</td>\n",
       "      <td>Simulation</td>\n",
       "      <td>150000000</td>\n",
       "    </tr>\n",
       "    <tr>\n",
       "      <th>1</th>\n",
       "      <td>578080</td>\n",
       "      <td>PUBG Corporation</td>\n",
       "      <td>PLAYERUNKNOWN'S BATTLEGROUNDS</td>\n",
       "      <td>485605</td>\n",
       "      <td>473832</td>\n",
       "      <td>PUBG Corporation</td>\n",
       "      <td>11.0</td>\n",
       "      <td>49</td>\n",
       "      <td>20043</td>\n",
       "      <td>10105</td>\n",
       "      <td>Simulation</td>\n",
       "      <td>75000000</td>\n",
       "    </tr>\n",
       "    <tr>\n",
       "      <th>2</th>\n",
       "      <td>227940</td>\n",
       "      <td>RETO MOTO</td>\n",
       "      <td>Heroes &amp; Generals</td>\n",
       "      <td>64875</td>\n",
       "      <td>33565</td>\n",
       "      <td>RETO MOTO</td>\n",
       "      <td>26.0</td>\n",
       "      <td>65</td>\n",
       "      <td>1002</td>\n",
       "      <td>87</td>\n",
       "      <td>Simulation</td>\n",
       "      <td>15000000</td>\n",
       "    </tr>\n",
       "    <tr>\n",
       "      <th>3</th>\n",
       "      <td>218620</td>\n",
       "      <td>OVERKILL - a Starbreeze Studio.</td>\n",
       "      <td>PAYDAY 2</td>\n",
       "      <td>306750</td>\n",
       "      <td>56563</td>\n",
       "      <td>Starbreeze Publishing AB</td>\n",
       "      <td>61.0</td>\n",
       "      <td>84</td>\n",
       "      <td>4427</td>\n",
       "      <td>849</td>\n",
       "      <td>Simulation</td>\n",
       "      <td>15000000</td>\n",
       "    </tr>\n",
       "    <tr>\n",
       "      <th>4</th>\n",
       "      <td>236390</td>\n",
       "      <td>Gaijin Entertainment</td>\n",
       "      <td>War Thunder</td>\n",
       "      <td>82238</td>\n",
       "      <td>20836</td>\n",
       "      <td>Gaijin Entertainment</td>\n",
       "      <td>49.0</td>\n",
       "      <td>79</td>\n",
       "      <td>3536</td>\n",
       "      <td>339</td>\n",
       "      <td>Simulation</td>\n",
       "      <td>15000000</td>\n",
       "    </tr>\n",
       "  </tbody>\n",
       "</table>\n",
       "</div>"
      ],
      "text/plain": [
       "    appid                        developer                           name  \\\n",
       "0     570                            Valve                         Dota 2   \n",
       "1  578080                 PUBG Corporation  PLAYERUNKNOWN'S BATTLEGROUNDS   \n",
       "2  227940                        RETO MOTO              Heroes & Generals   \n",
       "3  218620  OVERKILL - a Starbreeze Studio.                       PAYDAY 2   \n",
       "4  236390             Gaijin Entertainment                    War Thunder   \n",
       "\n",
       "   positive  negative                 publisher  score_rank  userscore  \\\n",
       "0    851989    137583                     Valve        66.0         86   \n",
       "1    485605    473832          PUBG Corporation        11.0         49   \n",
       "2     64875     33565                 RETO MOTO        26.0         65   \n",
       "3    306750     56563  Starbreeze Publishing AB        61.0         84   \n",
       "4     82238     20836      Gaijin Entertainment        49.0         79   \n",
       "\n",
       "   average_forever  median_forever    tag_name  avg_owners  \n",
       "0            29522             595  Simulation   150000000  \n",
       "1            20043           10105  Simulation    75000000  \n",
       "2             1002              87  Simulation    15000000  \n",
       "3             4427             849  Simulation    15000000  \n",
       "4             3536             339  Simulation    15000000  "
      ]
     },
     "execution_count": 10,
     "metadata": {},
     "output_type": "execute_result"
    }
   ],
   "source": [
    "df_tags_2.head()"
   ]
  },
  {
   "cell_type": "markdown",
   "metadata": {},
   "source": [
    "Zaggregowane dane postanowiłem zapisać w pliku .CSV z separatowem w postaci ','. "
   ]
  },
  {
   "cell_type": "code",
   "execution_count": 11,
   "metadata": {},
   "outputs": [],
   "source": [
    "df_tags_2.to_csv('steamspy_tags.csv', sep=',')"
   ]
  },
  {
   "cell_type": "code",
   "execution_count": 55,
   "metadata": {},
   "outputs": [
    {
     "data": {
      "text/plain": [
       "Text(0.5, 1.0, 'ILOŚĆ GIER Z DANYM TAGIEM')"
      ]
     },
     "execution_count": 55,
     "metadata": {},
     "output_type": "execute_result"
    },
    {
     "data": {
      "image/png": "[encoded data removed]",
      "text/plain": [
       "<Figure size 1080x504 with 1 Axes>"
      ]
     },
     "metadata": {},
     "output_type": "display_data"
    }
   ],
   "source": [
    "#wstępna wizualizacja wyników\n",
    "plt.figure(figsize=(15,7))\n",
    "sns.set_style(\"darkgrid\")\n",
    "sns.set_context(\"notebook\", font_scale=0.9, rc={\"lines.linewidth\": 2.5})\n",
    "\n",
    "sns.countplot(x='tag_name',\n",
    "              data=df_tags_2,\n",
    "              palette=\"GnBu_r\",\n",
    "              order = df_tags_2['tag_name'].value_counts().index)\n",
    "\n",
    "plt.title(\"ILOŚĆ GIER Z DANYM TAGIEM\")"
   ]
  },
  {
   "cell_type": "markdown",
   "metadata": {},
   "source": [
    "Wstępna wizualizacja pokazuje, że dominującym tagiem w tym datasecie jest 'Simulation'.\n",
    "<br> Z kolei tagi 'Turn Based Strategy' oraz 'Turn Based Tactic' mają znikomy udział w rynku oznaczonym ww tagami."
   ]
  },
  {
   "cell_type": "markdown",
   "metadata": {},
   "source": [
    "### Największe sukcesy w segmencie rynku gier opisanych ww  tagami."
   ]
  },
  {
   "cell_type": "markdown",
   "metadata": {},
   "source": [
    "Sukcesy w segmentach opisanych tagami postanowiłem rozbić na kilka grup.\n",
    "<br> Biorę pod uwagę pozytywne głosy, ilość graczy oraz średni czas gry począwszy od marca 2009 (w minutach).\n",
    "<br> Na samym początku tworzę tabelę przestawną, która zwraca mi maksymalne wartości zadanej wielkości, <br> następnię sortuję tę tabelę per tag w kolejności od największego wyniku do najmniejszego.\n",
    "<br> Następnie przy użyciu funkcji get_top1_from_tags zwracam top wartość dla każdej grupy tagów."
   ]
  },
  {
   "cell_type": "code",
   "execution_count": 13,
   "metadata": {},
   "outputs": [],
   "source": [
    "positive = pd.pivot_table(df_tags_2,\n",
    "                          index=['tag_name','name'],\n",
    "                          values='positive',\n",
    "                          aggfunc=max).reset_index().sort_values(by=['tag_name','positive'], ascending=False)"
   ]
  },
  {
   "cell_type": "code",
   "execution_count": 14,
   "metadata": {},
   "outputs": [
    {
     "data": {
      "text/html": [
       "<div>\n",
       "<style scoped>\n",
       "    .dataframe tbody tr th:only-of-type {\n",
       "        vertical-align: middle;\n",
       "    }\n",
       "\n",
       "    .dataframe tbody tr th {\n",
       "        vertical-align: top;\n",
       "    }\n",
       "\n",
       "    .dataframe thead th {\n",
       "        text-align: right;\n",
       "    }\n",
       "</style>\n",
       "<table border=\"1\" class=\"dataframe\">\n",
       "  <thead>\n",
       "    <tr style=\"text-align: right;\">\n",
       "      <th></th>\n",
       "      <th>tag_name</th>\n",
       "      <th>name</th>\n",
       "      <th>positive</th>\n",
       "    </tr>\n",
       "  </thead>\n",
       "  <tbody>\n",
       "    <tr>\n",
       "      <th>10641</th>\n",
       "      <td>Turn Based Tactic</td>\n",
       "      <td>Grand Theft Auto IV</td>\n",
       "      <td>34648</td>\n",
       "    </tr>\n",
       "    <tr>\n",
       "      <th>10645</th>\n",
       "      <td>Turn Based Tactic</td>\n",
       "      <td>Rock of Ages</td>\n",
       "      <td>2601</td>\n",
       "    </tr>\n",
       "    <tr>\n",
       "      <th>10643</th>\n",
       "      <td>Turn Based Tactic</td>\n",
       "      <td>PewDiePie: Legend of the Brofist</td>\n",
       "      <td>1086</td>\n",
       "    </tr>\n",
       "    <tr>\n",
       "      <th>10648</th>\n",
       "      <td>Turn Based Tactic</td>\n",
       "      <td>Zombie Bowl-o-Rama</td>\n",
       "      <td>241</td>\n",
       "    </tr>\n",
       "    <tr>\n",
       "      <th>10647</th>\n",
       "      <td>Turn Based Tactic</td>\n",
       "      <td>VR SUPER SPORTS</td>\n",
       "      <td>41</td>\n",
       "    </tr>\n",
       "  </tbody>\n",
       "</table>\n",
       "</div>"
      ],
      "text/plain": [
       "                tag_name                              name  positive\n",
       "10641  Turn Based Tactic               Grand Theft Auto IV     34648\n",
       "10645  Turn Based Tactic                      Rock of Ages      2601\n",
       "10643  Turn Based Tactic  PewDiePie: Legend of the Brofist      1086\n",
       "10648  Turn Based Tactic                Zombie Bowl-o-Rama       241\n",
       "10647  Turn Based Tactic                   VR SUPER SPORTS        41"
      ]
     },
     "execution_count": 14,
     "metadata": {},
     "output_type": "execute_result"
    }
   ],
   "source": [
    "positive.head(5)"
   ]
  },
  {
   "cell_type": "code",
   "execution_count": 15,
   "metadata": {},
   "outputs": [
    {
     "data": {
      "text/html": [
       "<div>\n",
       "<style scoped>\n",
       "    .dataframe tbody tr th:only-of-type {\n",
       "        vertical-align: middle;\n",
       "    }\n",
       "\n",
       "    .dataframe tbody tr th {\n",
       "        vertical-align: top;\n",
       "    }\n",
       "\n",
       "    .dataframe thead th {\n",
       "        text-align: right;\n",
       "    }\n",
       "</style>\n",
       "<table border=\"1\" class=\"dataframe\">\n",
       "  <thead>\n",
       "    <tr style=\"text-align: right;\">\n",
       "      <th></th>\n",
       "      <th>name</th>\n",
       "      <th>positive</th>\n",
       "    </tr>\n",
       "    <tr>\n",
       "      <th>tag_name</th>\n",
       "      <th></th>\n",
       "      <th></th>\n",
       "    </tr>\n",
       "  </thead>\n",
       "  <tbody>\n",
       "    <tr>\n",
       "      <th>Turn Based Tactic</th>\n",
       "      <td>Grand Theft Auto IV</td>\n",
       "      <td>34648</td>\n",
       "    </tr>\n",
       "    <tr>\n",
       "      <th>Turn Based Strategy</th>\n",
       "      <td>Grand Theft Auto IV</td>\n",
       "      <td>34648</td>\n",
       "    </tr>\n",
       "    <tr>\n",
       "      <th>Tactical</th>\n",
       "      <td>Counter-Strike: Global Offensive</td>\n",
       "      <td>2563015</td>\n",
       "    </tr>\n",
       "    <tr>\n",
       "      <th>Simulation</th>\n",
       "      <td>Dota 2</td>\n",
       "      <td>851989</td>\n",
       "    </tr>\n",
       "    <tr>\n",
       "      <th>Sci-Fi</th>\n",
       "      <td>Warframe</td>\n",
       "      <td>220654</td>\n",
       "    </tr>\n",
       "    <tr>\n",
       "      <th>RTS</th>\n",
       "      <td>Dota 2</td>\n",
       "      <td>851989</td>\n",
       "    </tr>\n",
       "    <tr>\n",
       "      <th>Co-op</th>\n",
       "      <td>Counter-Strike: Global Offensive</td>\n",
       "      <td>2563015</td>\n",
       "    </tr>\n",
       "    <tr>\n",
       "      <th>Building</th>\n",
       "      <td>Garry's Mod</td>\n",
       "      <td>357658</td>\n",
       "    </tr>\n",
       "  </tbody>\n",
       "</table>\n",
       "</div>"
      ],
      "text/plain": [
       "                                                 name  positive\n",
       "tag_name                                                       \n",
       "Turn Based Tactic                 Grand Theft Auto IV     34648\n",
       "Turn Based Strategy               Grand Theft Auto IV     34648\n",
       "Tactical             Counter-Strike: Global Offensive   2563015\n",
       "Simulation                                     Dota 2    851989\n",
       "Sci-Fi                                       Warframe    220654\n",
       "RTS                                            Dota 2    851989\n",
       "Co-op                Counter-Strike: Global Offensive   2563015\n",
       "Building                                  Garry's Mod    357658"
      ]
     },
     "execution_count": 15,
     "metadata": {},
     "output_type": "execute_result"
    }
   ],
   "source": [
    "def get_top1_from_tags(group, group_by):\n",
    "    '''\n",
    "    Funkcja zwraca top wartość z danej grupy.\n",
    "    '''\n",
    "    return group.sort_values(by=group_by, ascending=False)[:1]\n",
    "\n",
    "grouped = positive.groupby('tag_name')\n",
    "top_tags = grouped.apply(get_top1_from_tags, 'positive').set_index('tag_name')\n",
    "\n",
    "top_tags.sort_values(by='tag_name', ascending=False)"
   ]
  },
  {
   "cell_type": "markdown",
   "metadata": {},
   "source": [
    "Na podstawie powyższej tabeli możemy stwierdzić, że największe sukcesy w segmencie rynku gier opisanych podanymi tagami pod względem ilości pozytywnych opinii odnoszą Grand Theft Auto IV, Counter-Strike: GO, Dota 2, Warframe, Garry's Mod."
   ]
  },
  {
   "cell_type": "code",
   "execution_count": 16,
   "metadata": {},
   "outputs": [
    {
     "data": {
      "text/html": [
       "<div>\n",
       "<style scoped>\n",
       "    .dataframe tbody tr th:only-of-type {\n",
       "        vertical-align: middle;\n",
       "    }\n",
       "\n",
       "    .dataframe tbody tr th {\n",
       "        vertical-align: top;\n",
       "    }\n",
       "\n",
       "    .dataframe thead th {\n",
       "        text-align: right;\n",
       "    }\n",
       "</style>\n",
       "<table border=\"1\" class=\"dataframe\">\n",
       "  <thead>\n",
       "    <tr style=\"text-align: right;\">\n",
       "      <th></th>\n",
       "      <th>name</th>\n",
       "      <th>avg_owners</th>\n",
       "    </tr>\n",
       "    <tr>\n",
       "      <th>tag_name</th>\n",
       "      <th></th>\n",
       "      <th></th>\n",
       "    </tr>\n",
       "  </thead>\n",
       "  <tbody>\n",
       "    <tr>\n",
       "      <th>Turn Based Tactic</th>\n",
       "      <td>Grand Theft Auto IV</td>\n",
       "      <td>3500000</td>\n",
       "    </tr>\n",
       "    <tr>\n",
       "      <th>Turn Based Strategy</th>\n",
       "      <td>Grand Theft Auto IV</td>\n",
       "      <td>3500000</td>\n",
       "    </tr>\n",
       "    <tr>\n",
       "      <th>Tactical</th>\n",
       "      <td>PLAYERUNKNOWN'S BATTLEGROUNDS</td>\n",
       "      <td>75000000</td>\n",
       "    </tr>\n",
       "    <tr>\n",
       "      <th>Simulation</th>\n",
       "      <td>Dota 2</td>\n",
       "      <td>150000000</td>\n",
       "    </tr>\n",
       "    <tr>\n",
       "      <th>Sci-Fi</th>\n",
       "      <td>Warframe</td>\n",
       "      <td>35000000</td>\n",
       "    </tr>\n",
       "    <tr>\n",
       "      <th>RTS</th>\n",
       "      <td>Dota 2</td>\n",
       "      <td>150000000</td>\n",
       "    </tr>\n",
       "    <tr>\n",
       "      <th>Co-op</th>\n",
       "      <td>Dota 2</td>\n",
       "      <td>150000000</td>\n",
       "    </tr>\n",
       "    <tr>\n",
       "      <th>Building</th>\n",
       "      <td>Garry's Mod</td>\n",
       "      <td>15000000</td>\n",
       "    </tr>\n",
       "  </tbody>\n",
       "</table>\n",
       "</div>"
      ],
      "text/plain": [
       "                                              name  avg_owners\n",
       "tag_name                                                      \n",
       "Turn Based Tactic              Grand Theft Auto IV     3500000\n",
       "Turn Based Strategy            Grand Theft Auto IV     3500000\n",
       "Tactical             PLAYERUNKNOWN'S BATTLEGROUNDS    75000000\n",
       "Simulation                                  Dota 2   150000000\n",
       "Sci-Fi                                    Warframe    35000000\n",
       "RTS                                         Dota 2   150000000\n",
       "Co-op                                       Dota 2   150000000\n",
       "Building                               Garry's Mod    15000000"
      ]
     },
     "execution_count": 16,
     "metadata": {},
     "output_type": "execute_result"
    }
   ],
   "source": [
    "owners = pd.pivot_table(df_tags_2,\n",
    "                        index=['tag_name','name'],\n",
    "                        values='avg_owners',\n",
    "                        aggfunc=max).reset_index().sort_values(by=['tag_name','avg_owners'], ascending=False)\n",
    "\n",
    "grouped_2 = owners.groupby('tag_name')\n",
    "top_owners = grouped_2.apply(get_top1_from_tags, 'avg_owners').set_index('tag_name')\n",
    "\n",
    "top_owners.sort_values(by='tag_name', ascending=False)"
   ]
  },
  {
   "cell_type": "markdown",
   "metadata": {},
   "source": [
    "Na podstawie powyższej tabeli możemy stwierdzić, że największe sukcesy w segmencie rynku gier opisanych podanymi tagami pod względem średniej ilości użytkowników odnoszą: Grand Theft Auto IV, PLAYERUNKNOWN'S BATTLEGROUNDS, Dota 2, Warframe oraz Garry's Mod."
   ]
  },
  {
   "cell_type": "code",
   "execution_count": 17,
   "metadata": {},
   "outputs": [
    {
     "data": {
      "text/html": [
       "<div>\n",
       "<style scoped>\n",
       "    .dataframe tbody tr th:only-of-type {\n",
       "        vertical-align: middle;\n",
       "    }\n",
       "\n",
       "    .dataframe tbody tr th {\n",
       "        vertical-align: top;\n",
       "    }\n",
       "\n",
       "    .dataframe thead th {\n",
       "        text-align: right;\n",
       "    }\n",
       "</style>\n",
       "<table border=\"1\" class=\"dataframe\">\n",
       "  <thead>\n",
       "    <tr style=\"text-align: right;\">\n",
       "      <th></th>\n",
       "      <th>name</th>\n",
       "      <th>average_forever</th>\n",
       "    </tr>\n",
       "    <tr>\n",
       "      <th>tag_name</th>\n",
       "      <th></th>\n",
       "      <th></th>\n",
       "    </tr>\n",
       "  </thead>\n",
       "  <tbody>\n",
       "    <tr>\n",
       "      <th>Turn Based Tactic</th>\n",
       "      <td>Grand Theft Auto IV</td>\n",
       "      <td>1789</td>\n",
       "    </tr>\n",
       "    <tr>\n",
       "      <th>Turn Based Strategy</th>\n",
       "      <td>Grand Theft Auto IV</td>\n",
       "      <td>1789</td>\n",
       "    </tr>\n",
       "    <tr>\n",
       "      <th>Tactical</th>\n",
       "      <td>Counter-Strike: Global Offensive</td>\n",
       "      <td>32354</td>\n",
       "    </tr>\n",
       "    <tr>\n",
       "      <th>Simulation</th>\n",
       "      <td>&gt;//:System.Hack</td>\n",
       "      <td>134253</td>\n",
       "    </tr>\n",
       "    <tr>\n",
       "      <th>Sci-Fi</th>\n",
       "      <td>&gt;//:System.Hack</td>\n",
       "      <td>134253</td>\n",
       "    </tr>\n",
       "    <tr>\n",
       "      <th>RTS</th>\n",
       "      <td>Dota 2</td>\n",
       "      <td>29522</td>\n",
       "    </tr>\n",
       "    <tr>\n",
       "      <th>Co-op</th>\n",
       "      <td>Counter-Strike: Global Offensive</td>\n",
       "      <td>32354</td>\n",
       "    </tr>\n",
       "    <tr>\n",
       "      <th>Building</th>\n",
       "      <td>Trainz: A New Era</td>\n",
       "      <td>16841</td>\n",
       "    </tr>\n",
       "  </tbody>\n",
       "</table>\n",
       "</div>"
      ],
      "text/plain": [
       "                                                 name  average_forever\n",
       "tag_name                                                              \n",
       "Turn Based Tactic                 Grand Theft Auto IV             1789\n",
       "Turn Based Strategy               Grand Theft Auto IV             1789\n",
       "Tactical             Counter-Strike: Global Offensive            32354\n",
       "Simulation                            >//:System.Hack           134253\n",
       "Sci-Fi                                >//:System.Hack           134253\n",
       "RTS                                            Dota 2            29522\n",
       "Co-op                Counter-Strike: Global Offensive            32354\n",
       "Building                            Trainz: A New Era            16841"
      ]
     },
     "execution_count": 17,
     "metadata": {},
     "output_type": "execute_result"
    }
   ],
   "source": [
    "average_forever = pd.pivot_table(df_tags_2,\n",
    "                                 index=['tag_name','name'],\n",
    "                                 values='average_forever',\n",
    "                                 aggfunc=max).reset_index().sort_values(by=['tag_name','average_forever'], ascending=False)\n",
    "\n",
    "grouped_3 = average_forever.groupby('tag_name')\n",
    "top_avg_forever = grouped_3.apply(get_top1_from_tags, 'average_forever').set_index('tag_name')\n",
    "\n",
    "top_avg_forever.sort_values(by='tag_name', ascending=False)"
   ]
  },
  {
   "cell_type": "markdown",
   "metadata": {},
   "source": [
    "Na podstawie powyższej tabeli możemy stwierdzić, że największe sukcesy w segmencie rynku gier opisanych podanymi tagami pod względem średniego czasu gry począwszy od marca 2009 odnoszą Grand Theft Auto IV, Counter-Strike: GO, Trainz: A New Era, >//:System.Hack."
   ]
  },
  {
   "cell_type": "markdown",
   "metadata": {},
   "source": [
    "### Który z podanych wydawców posiada doświadczenie potrzebne do wydania gry?"
   ]
  },
  {
   "cell_type": "markdown",
   "metadata": {},
   "source": [
    "Określając doświadczenie wydawcy na wstępnym poziomie, zakładam, że zsumowana ilość gier otagowana podanymi tagami będzie wyznacznikiem doświadczenia. Idealny wydawca, to taki, który miał już wcześniej styczność z daną branżą.\n",
    "\n",
    "<br> Najpierw tworzę tabelę przestawną posegmentowaną nazwą wydawcy oraz tagiem, za doświadczenie posłuży mi funkcja len, która w tym wypadku zwraca zsumowaną ilość gier w danym segmencie.\n",
    "Nastepnie grupuję ten dataframe na wydawców i sumuję wystąpienia gier.\n",
    "<br> Kolejnym krokiem jest sprawdzenie, którzy z podanych wydawców pojawili się w wynikowym dataframe."
   ]
  },
  {
   "cell_type": "code",
   "execution_count": 18,
   "metadata": {},
   "outputs": [],
   "source": [
    "publishers =['Slitherine Ltd.',\n",
    "             'Team17 Digital. Ltd',\n",
    "             'Paradox Interactive',\n",
    "             'Maximum Games Kiss ltd',\n",
    "             'Assemble Entertainment']"
   ]
  },
  {
   "cell_type": "code",
   "execution_count": 19,
   "metadata": {},
   "outputs": [],
   "source": [
    "exp = pd.pivot_table(df_tags,\n",
    "                     index=['publisher','tag_name'],\n",
    "                     values='appid', \n",
    "                     aggfunc=len).reset_index().sort_values(by=['appid','publisher'], ascending=False)"
   ]
  },
  {
   "cell_type": "code",
   "execution_count": 20,
   "metadata": {},
   "outputs": [],
   "source": [
    "exp_sum = exp.groupby('publisher').sum().reset_index().sort_values(by='appid', ascending = False)"
   ]
  },
  {
   "cell_type": "code",
   "execution_count": 21,
   "metadata": {},
   "outputs": [],
   "source": [
    "#tworzenie zmiennych odpowiadających wydawcom\n",
    "slitherine = exp_sum['publisher'] == publishers[0]\n",
    "team17 = exp_sum['publisher'] == publishers[1]\n",
    "paradox = exp_sum['publisher'] == publishers[2]\n",
    "maximum_games = exp_sum['publisher'] == publishers[3]\n",
    "assemble = exp_sum['publisher'] == publishers[4]\n",
    "\n",
    "exp_sum.rename(columns={'appid' : 'experience'}, inplace=True)"
   ]
  },
  {
   "cell_type": "code",
   "execution_count": 22,
   "metadata": {},
   "outputs": [
    {
     "data": {
      "text/html": [
       "<div>\n",
       "<style scoped>\n",
       "    .dataframe tbody tr th:only-of-type {\n",
       "        vertical-align: middle;\n",
       "    }\n",
       "\n",
       "    .dataframe tbody tr th {\n",
       "        vertical-align: top;\n",
       "    }\n",
       "\n",
       "    .dataframe thead th {\n",
       "        text-align: right;\n",
       "    }\n",
       "</style>\n",
       "<table border=\"1\" class=\"dataframe\">\n",
       "  <thead>\n",
       "    <tr style=\"text-align: right;\">\n",
       "      <th></th>\n",
       "      <th>index</th>\n",
       "      <th>publisher</th>\n",
       "      <th>experience</th>\n",
       "    </tr>\n",
       "  </thead>\n",
       "  <tbody>\n",
       "    <tr>\n",
       "      <th>0</th>\n",
       "      <td>3728</td>\n",
       "      <td>Slitherine Ltd.</td>\n",
       "      <td>89.0</td>\n",
       "    </tr>\n",
       "    <tr>\n",
       "      <th>1</th>\n",
       "      <td>3074</td>\n",
       "      <td>Paradox Interactive</td>\n",
       "      <td>79.0</td>\n",
       "    </tr>\n",
       "    <tr>\n",
       "      <th>2</th>\n",
       "      <td>348</td>\n",
       "      <td>Assemble Entertainment</td>\n",
       "      <td>7.0</td>\n",
       "    </tr>\n",
       "  </tbody>\n",
       "</table>\n",
       "</div>"
      ],
      "text/plain": [
       "   index               publisher  experience\n",
       "0   3728         Slitherine Ltd.        89.0\n",
       "1   3074     Paradox Interactive        79.0\n",
       "2    348  Assemble Entertainment         7.0"
      ]
     },
     "execution_count": 22,
     "metadata": {},
     "output_type": "execute_result"
    }
   ],
   "source": [
    "#zwracanie wydawców z doświadczeniem w wybranych segmentach\n",
    "exp_sum[slitherine | team17 | paradox | maximum_games | assemble].reset_index()"
   ]
  },
  {
   "cell_type": "markdown",
   "metadata": {},
   "source": [
    "Zwrócony dataframe informuje nas, że wydawcy Slitherine Ltd., Paradox Interactive oraz Assemble Entertainment posiadają na swoim koncie gry o podobnej charakterystyce. Wybór wydawcy po samej ilości wydanych gier nie jest w stu procentach miarodajny. W kolejnych krokach pokażę dlaczego."
   ]
  },
  {
   "cell_type": "markdown",
   "metadata": {},
   "source": [
    "### Z którym z wydawców warto prowadzić rozmowy?"
   ]
  },
  {
   "cell_type": "markdown",
   "metadata": {},
   "source": [
    "Tak jak wcześniej wspomniałem w tej sekcji użyję bardziej miarodajnego sposobu na wyliczenie porównanie doświadczenia wydawców. \n",
    "<br> Za wskaznik punktów doświadczenia posłuży mi średnia ważona o następujących wagach:\n",
    " \n",
    "* doświadczenie w ilości wydanych gier (experience) : 4\n",
    "2. liczba graczy (avg_owners) : 3\n",
    "3. pozytywne opinie (positive): 2\n",
    "4. negatywne opinie (negative): 2\n",
    "5. średni czas gry począwszy od marca 2009 (average_forever): 1\n",
    "6. przeciętny czas gry począwszy od marca 2009 (median_forever): 1\n",
    "\n",
    "Tak jak wcześniej buduję tabelę przestawną, która zwróci mi wartości przydatne do obliczenia średniej ważonej."
   ]
  },
  {
   "cell_type": "code",
   "execution_count": 23,
   "metadata": {},
   "outputs": [],
   "source": [
    "exp_df = pd.pivot_table(df_tags_2,\n",
    "                        index=['publisher'],\n",
    "                        values=['appid', 'positive','negative','avg_owners','average_forever', 'median_forever'], \n",
    "                     aggfunc={'appid': len,\n",
    "                              'positive': sum, \n",
    "                              'negative': sum ,\n",
    "                              'avg_owners':sum,\n",
    "                              'average_forever': np.mean,\n",
    "                              'median_forever' : np.mean}).reset_index().sort_values(by=['appid'], ascending=False)"
   ]
  },
  {
   "cell_type": "code",
   "execution_count": 24,
   "metadata": {},
   "outputs": [
    {
     "data": {
      "text/html": [
       "<div>\n",
       "<style scoped>\n",
       "    .dataframe tbody tr th:only-of-type {\n",
       "        vertical-align: middle;\n",
       "    }\n",
       "\n",
       "    .dataframe tbody tr th {\n",
       "        vertical-align: top;\n",
       "    }\n",
       "\n",
       "    .dataframe thead th {\n",
       "        text-align: right;\n",
       "    }\n",
       "</style>\n",
       "<table border=\"1\" class=\"dataframe\">\n",
       "  <thead>\n",
       "    <tr style=\"text-align: right;\">\n",
       "      <th></th>\n",
       "      <th>publisher</th>\n",
       "      <th>appid</th>\n",
       "      <th>average_forever</th>\n",
       "      <th>avg_owners</th>\n",
       "      <th>median_forever</th>\n",
       "      <th>negative</th>\n",
       "      <th>positive</th>\n",
       "    </tr>\n",
       "  </thead>\n",
       "  <tbody>\n",
       "    <tr>\n",
       "      <th>4276</th>\n",
       "      <td>Ubisoft</td>\n",
       "      <td>112</td>\n",
       "      <td>1239.160714</td>\n",
       "      <td>100880000</td>\n",
       "      <td>526.973214</td>\n",
       "      <td>425131</td>\n",
       "      <td>1375612</td>\n",
       "    </tr>\n",
       "    <tr>\n",
       "      <th>3728</th>\n",
       "      <td>Slitherine Ltd.</td>\n",
       "      <td>89</td>\n",
       "      <td>1161.932584</td>\n",
       "      <td>2965000</td>\n",
       "      <td>1312.426966</td>\n",
       "      <td>6827</td>\n",
       "      <td>21241</td>\n",
       "    </tr>\n",
       "    <tr>\n",
       "      <th>3074</th>\n",
       "      <td>Paradox Interactive</td>\n",
       "      <td>79</td>\n",
       "      <td>2062.582278</td>\n",
       "      <td>73710000</td>\n",
       "      <td>525.455696</td>\n",
       "      <td>152303</td>\n",
       "      <td>859552</td>\n",
       "    </tr>\n",
       "    <tr>\n",
       "      <th>3981</th>\n",
       "      <td>THQ Nordic</td>\n",
       "      <td>75</td>\n",
       "      <td>503.906667</td>\n",
       "      <td>25810000</td>\n",
       "      <td>238.506667</td>\n",
       "      <td>30368</td>\n",
       "      <td>102410</td>\n",
       "    </tr>\n",
       "    <tr>\n",
       "      <th>3534</th>\n",
       "      <td>SEGA</td>\n",
       "      <td>75</td>\n",
       "      <td>1479.306667</td>\n",
       "      <td>105830000</td>\n",
       "      <td>485.760000</td>\n",
       "      <td>116323</td>\n",
       "      <td>436084</td>\n",
       "    </tr>\n",
       "  </tbody>\n",
       "</table>\n",
       "</div>"
      ],
      "text/plain": [
       "                publisher  appid  average_forever  avg_owners  median_forever  \\\n",
       "4276              Ubisoft    112      1239.160714   100880000      526.973214   \n",
       "3728      Slitherine Ltd.     89      1161.932584     2965000     1312.426966   \n",
       "3074  Paradox Interactive     79      2062.582278    73710000      525.455696   \n",
       "3981           THQ Nordic     75       503.906667    25810000      238.506667   \n",
       "3534                 SEGA     75      1479.306667   105830000      485.760000   \n",
       "\n",
       "      negative  positive  \n",
       "4276    425131   1375612  \n",
       "3728      6827     21241  \n",
       "3074    152303    859552  \n",
       "3981     30368    102410  \n",
       "3534    116323    436084  "
      ]
     },
     "execution_count": 24,
     "metadata": {},
     "output_type": "execute_result"
    }
   ],
   "source": [
    "exp_df.head()"
   ]
  },
  {
   "cell_type": "code",
   "execution_count": 25,
   "metadata": {},
   "outputs": [
    {
     "data": {
      "text/html": [
       "<div>\n",
       "<style scoped>\n",
       "    .dataframe tbody tr th:only-of-type {\n",
       "        vertical-align: middle;\n",
       "    }\n",
       "\n",
       "    .dataframe tbody tr th {\n",
       "        vertical-align: top;\n",
       "    }\n",
       "\n",
       "    .dataframe thead th {\n",
       "        text-align: right;\n",
       "    }\n",
       "</style>\n",
       "<table border=\"1\" class=\"dataframe\">\n",
       "  <thead>\n",
       "    <tr style=\"text-align: right;\">\n",
       "      <th></th>\n",
       "      <th>publisher</th>\n",
       "      <th>appid</th>\n",
       "      <th>average_forever</th>\n",
       "      <th>avg_owners</th>\n",
       "      <th>median_forever</th>\n",
       "      <th>negative</th>\n",
       "      <th>positive</th>\n",
       "    </tr>\n",
       "  </thead>\n",
       "  <tbody>\n",
       "    <tr>\n",
       "      <th>3728</th>\n",
       "      <td>Slitherine Ltd.</td>\n",
       "      <td>89</td>\n",
       "      <td>1161.932584</td>\n",
       "      <td>2965000</td>\n",
       "      <td>1312.426966</td>\n",
       "      <td>6827</td>\n",
       "      <td>21241</td>\n",
       "    </tr>\n",
       "  </tbody>\n",
       "</table>\n",
       "</div>"
      ],
      "text/plain": [
       "            publisher  appid  average_forever  avg_owners  median_forever  \\\n",
       "3728  Slitherine Ltd.     89      1161.932584     2965000     1312.426966   \n",
       "\n",
       "      negative  positive  \n",
       "3728      6827     21241  "
      ]
     },
     "execution_count": 25,
     "metadata": {},
     "output_type": "execute_result"
    }
   ],
   "source": [
    "exp_df[exp_df['publisher'] == 'Slitherine Ltd.']"
   ]
  },
  {
   "cell_type": "code",
   "execution_count": 26,
   "metadata": {},
   "outputs": [
    {
     "data": {
      "text/plain": [
       "688766"
      ]
     },
     "execution_count": 26,
     "metadata": {},
     "output_type": "execute_result"
    }
   ],
   "source": [
    "#wzór z podstawionymi wartościami z wiersza wyżej\n",
    "int((89*4 + 2965000*3 + 21241*2 + 6827*2 + 1161.932584*1 + 1312.426966*1)/13)"
   ]
  },
  {
   "cell_type": "markdown",
   "metadata": {},
   "source": [
    "Po obliczeniu wskaznik punktów doświadczenia wydawcy Slitherine Ltd. wynosi 688766 punktów."
   ]
  },
  {
   "cell_type": "code",
   "execution_count": 27,
   "metadata": {},
   "outputs": [
    {
     "data": {
      "text/html": [
       "<div>\n",
       "<style scoped>\n",
       "    .dataframe tbody tr th:only-of-type {\n",
       "        vertical-align: middle;\n",
       "    }\n",
       "\n",
       "    .dataframe tbody tr th {\n",
       "        vertical-align: top;\n",
       "    }\n",
       "\n",
       "    .dataframe thead th {\n",
       "        text-align: right;\n",
       "    }\n",
       "</style>\n",
       "<table border=\"1\" class=\"dataframe\">\n",
       "  <thead>\n",
       "    <tr style=\"text-align: right;\">\n",
       "      <th></th>\n",
       "      <th>publisher</th>\n",
       "      <th>appid</th>\n",
       "      <th>average_forever</th>\n",
       "      <th>avg_owners</th>\n",
       "      <th>median_forever</th>\n",
       "      <th>negative</th>\n",
       "      <th>positive</th>\n",
       "    </tr>\n",
       "  </thead>\n",
       "  <tbody>\n",
       "    <tr>\n",
       "      <th>3074</th>\n",
       "      <td>Paradox Interactive</td>\n",
       "      <td>79</td>\n",
       "      <td>2062.582278</td>\n",
       "      <td>73710000</td>\n",
       "      <td>525.455696</td>\n",
       "      <td>152303</td>\n",
       "      <td>859552</td>\n",
       "    </tr>\n",
       "  </tbody>\n",
       "</table>\n",
       "</div>"
      ],
      "text/plain": [
       "                publisher  appid  average_forever  avg_owners  median_forever  \\\n",
       "3074  Paradox Interactive     79      2062.582278    73710000      525.455696   \n",
       "\n",
       "      negative  positive  \n",
       "3074    152303    859552  "
      ]
     },
     "execution_count": 27,
     "metadata": {},
     "output_type": "execute_result"
    }
   ],
   "source": [
    "exp_df[exp_df['publisher'] == 'Paradox Interactive']"
   ]
  },
  {
   "cell_type": "code",
   "execution_count": 28,
   "metadata": {},
   "outputs": [
    {
     "data": {
      "text/plain": [
       "17165893"
      ]
     },
     "execution_count": 28,
     "metadata": {},
     "output_type": "execute_result"
    }
   ],
   "source": [
    "#wzór z podstawionymi wartościami z wiersza wyżej\n",
    "int((79*4 + 73710000*3 + 859552*2 + 152303*2 + 2062.582278*1 + 525.455696*1)/13)"
   ]
  },
  {
   "cell_type": "markdown",
   "metadata": {},
   "source": [
    "Po obliczeniu wskaznik punktów doświadczenia wydawcy Paradox Interactive wynosi 17165893 punktów."
   ]
  },
  {
   "cell_type": "code",
   "execution_count": 29,
   "metadata": {},
   "outputs": [
    {
     "data": {
      "text/html": [
       "<div>\n",
       "<style scoped>\n",
       "    .dataframe tbody tr th:only-of-type {\n",
       "        vertical-align: middle;\n",
       "    }\n",
       "\n",
       "    .dataframe tbody tr th {\n",
       "        vertical-align: top;\n",
       "    }\n",
       "\n",
       "    .dataframe thead th {\n",
       "        text-align: right;\n",
       "    }\n",
       "</style>\n",
       "<table border=\"1\" class=\"dataframe\">\n",
       "  <thead>\n",
       "    <tr style=\"text-align: right;\">\n",
       "      <th></th>\n",
       "      <th>publisher</th>\n",
       "      <th>appid</th>\n",
       "      <th>average_forever</th>\n",
       "      <th>avg_owners</th>\n",
       "      <th>median_forever</th>\n",
       "      <th>negative</th>\n",
       "      <th>positive</th>\n",
       "    </tr>\n",
       "  </thead>\n",
       "  <tbody>\n",
       "    <tr>\n",
       "      <th>348</th>\n",
       "      <td>Assemble Entertainment</td>\n",
       "      <td>7</td>\n",
       "      <td>88.285714</td>\n",
       "      <td>95000</td>\n",
       "      <td>93.285714</td>\n",
       "      <td>504</td>\n",
       "      <td>441</td>\n",
       "    </tr>\n",
       "  </tbody>\n",
       "</table>\n",
       "</div>"
      ],
      "text/plain": [
       "                  publisher  appid  average_forever  avg_owners  \\\n",
       "348  Assemble Entertainment      7        88.285714       95000   \n",
       "\n",
       "     median_forever  negative  positive  \n",
       "348       93.285714       504       441  "
      ]
     },
     "execution_count": 29,
     "metadata": {},
     "output_type": "execute_result"
    }
   ],
   "source": [
    "exp_df[exp_df['publisher'] == 'Assemble Entertainment']"
   ]
  },
  {
   "cell_type": "code",
   "execution_count": 30,
   "metadata": {},
   "outputs": [
    {
     "data": {
      "text/plain": [
       "22084"
      ]
     },
     "execution_count": 30,
     "metadata": {},
     "output_type": "execute_result"
    }
   ],
   "source": [
    "#wzór z podstawionymi wartościami z wiersza wyżej\n",
    "int((7*4 + 95000*3 + 441*2 + 504*2 + 88.285714*1 + 93.285714*1)/13)"
   ]
  },
  {
   "cell_type": "markdown",
   "metadata": {},
   "source": [
    "Po obliczeniu wskaznik punktów doświadczenia wydawcy Assemble Entertainment wynosi 17165893 punktów."
   ]
  },
  {
   "cell_type": "markdown",
   "metadata": {},
   "source": [
    "Podsumowując, najlepszym wyborem wsród wydawców według wskaznika punktów doświadczenia (średniej ważonej) będzie Paradox Interactive, którego gry odnoszą sukcesy w segmencie tagów podanych wyżej. Na przykładzie Slitherine Ltd.\t możemy zauważyć, że niekoniecznie ilość wydanych gier świadczy o sukcesie wydawcy."
   ]
  },
  {
   "cell_type": "markdown",
   "metadata": {},
   "source": [
    "W kolejnym kroku chcę sprawdzić wydawców gier podanych w tresci zadania jako gry podobne do analizowanej gry. <br> To pozwoli sprawdzić w pewnym sensie, czy wybór Paradox Interactive był słuszny."
   ]
  },
  {
   "cell_type": "code",
   "execution_count": 31,
   "metadata": {},
   "outputs": [],
   "source": [
    "games = ['Prison Architect',\n",
    "         'Stellaris',\n",
    "         'XCOM 2',\n",
    "         'Frostpunk',\n",
    "         'Northgrad',\n",
    "         'Ancestors Legacy',\n",
    "         'Pahtom Doctrine',\n",
    "         'Battle Star Galactica Deadlock']"
   ]
  },
  {
   "cell_type": "code",
   "execution_count": 32,
   "metadata": {},
   "outputs": [
    {
     "data": {
      "text/html": [
       "<div>\n",
       "<style scoped>\n",
       "    .dataframe tbody tr th:only-of-type {\n",
       "        vertical-align: middle;\n",
       "    }\n",
       "\n",
       "    .dataframe tbody tr th {\n",
       "        vertical-align: top;\n",
       "    }\n",
       "\n",
       "    .dataframe thead th {\n",
       "        text-align: right;\n",
       "    }\n",
       "</style>\n",
       "<table border=\"1\" class=\"dataframe\">\n",
       "  <thead>\n",
       "    <tr style=\"text-align: right;\">\n",
       "      <th></th>\n",
       "      <th>appid</th>\n",
       "      <th>developer</th>\n",
       "      <th>name</th>\n",
       "      <th>positive</th>\n",
       "      <th>negative</th>\n",
       "      <th>publisher</th>\n",
       "      <th>score_rank</th>\n",
       "      <th>userscore</th>\n",
       "      <th>average_forever</th>\n",
       "      <th>median_forever</th>\n",
       "      <th>tag_name</th>\n",
       "      <th>avg_owners</th>\n",
       "    </tr>\n",
       "  </thead>\n",
       "  <tbody>\n",
       "    <tr>\n",
       "      <th>63</th>\n",
       "      <td>233450</td>\n",
       "      <td>Introversion Software</td>\n",
       "      <td>Prison Architect</td>\n",
       "      <td>31206</td>\n",
       "      <td>2190</td>\n",
       "      <td>Paradox Interactive</td>\n",
       "      <td>87.0</td>\n",
       "      <td>93</td>\n",
       "      <td>1599</td>\n",
       "      <td>585</td>\n",
       "      <td>Simulation</td>\n",
       "      <td>3500000</td>\n",
       "    </tr>\n",
       "  </tbody>\n",
       "</table>\n",
       "</div>"
      ],
      "text/plain": [
       "     appid              developer              name  positive  negative  \\\n",
       "63  233450  Introversion Software  Prison Architect     31206      2190   \n",
       "\n",
       "              publisher  score_rank  userscore  average_forever  \\\n",
       "63  Paradox Interactive        87.0         93             1599   \n",
       "\n",
       "    median_forever    tag_name  avg_owners  \n",
       "63             585  Simulation     3500000  "
      ]
     },
     "execution_count": 32,
     "metadata": {},
     "output_type": "execute_result"
    }
   ],
   "source": [
    "df_tags_2[df_tags_2['name'] == games[0]].head(1)"
   ]
  },
  {
   "cell_type": "code",
   "execution_count": 33,
   "metadata": {},
   "outputs": [
    {
     "data": {
      "text/html": [
       "<div>\n",
       "<style scoped>\n",
       "    .dataframe tbody tr th:only-of-type {\n",
       "        vertical-align: middle;\n",
       "    }\n",
       "\n",
       "    .dataframe tbody tr th {\n",
       "        vertical-align: top;\n",
       "    }\n",
       "\n",
       "    .dataframe thead th {\n",
       "        text-align: right;\n",
       "    }\n",
       "</style>\n",
       "<table border=\"1\" class=\"dataframe\">\n",
       "  <thead>\n",
       "    <tr style=\"text-align: right;\">\n",
       "      <th></th>\n",
       "      <th>appid</th>\n",
       "      <th>developer</th>\n",
       "      <th>name</th>\n",
       "      <th>positive</th>\n",
       "      <th>negative</th>\n",
       "      <th>publisher</th>\n",
       "      <th>score_rank</th>\n",
       "      <th>userscore</th>\n",
       "      <th>average_forever</th>\n",
       "      <th>median_forever</th>\n",
       "      <th>tag_name</th>\n",
       "      <th>avg_owners</th>\n",
       "    </tr>\n",
       "  </thead>\n",
       "  <tbody>\n",
       "    <tr>\n",
       "      <th>84</th>\n",
       "      <td>281990</td>\n",
       "      <td>Paradox Development Studio</td>\n",
       "      <td>Stellaris</td>\n",
       "      <td>34417</td>\n",
       "      <td>9647</td>\n",
       "      <td>Paradox Interactive</td>\n",
       "      <td>47.0</td>\n",
       "      <td>77</td>\n",
       "      <td>5051</td>\n",
       "      <td>1590</td>\n",
       "      <td>Simulation</td>\n",
       "      <td>1500000</td>\n",
       "    </tr>\n",
       "  </tbody>\n",
       "</table>\n",
       "</div>"
      ],
      "text/plain": [
       "     appid                   developer       name  positive  negative  \\\n",
       "84  281990  Paradox Development Studio  Stellaris     34417      9647   \n",
       "\n",
       "              publisher  score_rank  userscore  average_forever  \\\n",
       "84  Paradox Interactive        47.0         77             5051   \n",
       "\n",
       "    median_forever    tag_name  avg_owners  \n",
       "84            1590  Simulation     1500000  "
      ]
     },
     "execution_count": 33,
     "metadata": {},
     "output_type": "execute_result"
    }
   ],
   "source": [
    "df_tags_2[df_tags_2['name'] == games[1]].head(1)"
   ]
  },
  {
   "cell_type": "code",
   "execution_count": 34,
   "metadata": {},
   "outputs": [
    {
     "data": {
      "text/html": [
       "<div>\n",
       "<style scoped>\n",
       "    .dataframe tbody tr th:only-of-type {\n",
       "        vertical-align: middle;\n",
       "    }\n",
       "\n",
       "    .dataframe tbody tr th {\n",
       "        vertical-align: top;\n",
       "    }\n",
       "\n",
       "    .dataframe thead th {\n",
       "        text-align: right;\n",
       "    }\n",
       "</style>\n",
       "<table border=\"1\" class=\"dataframe\">\n",
       "  <thead>\n",
       "    <tr style=\"text-align: right;\">\n",
       "      <th></th>\n",
       "      <th>appid</th>\n",
       "      <th>developer</th>\n",
       "      <th>name</th>\n",
       "      <th>positive</th>\n",
       "      <th>negative</th>\n",
       "      <th>publisher</th>\n",
       "      <th>score_rank</th>\n",
       "      <th>userscore</th>\n",
       "      <th>average_forever</th>\n",
       "      <th>median_forever</th>\n",
       "      <th>tag_name</th>\n",
       "      <th>avg_owners</th>\n",
       "    </tr>\n",
       "  </thead>\n",
       "  <tbody>\n",
       "    <tr>\n",
       "      <th>6242</th>\n",
       "      <td>268500</td>\n",
       "      <td>Firaxis Games, Feral Interactive (Mac), Feral ...</td>\n",
       "      <td>XCOM 2</td>\n",
       "      <td>27944</td>\n",
       "      <td>6681</td>\n",
       "      <td>2K, Feral Interactive (Mac), Feral Interactive...</td>\n",
       "      <td>52.0</td>\n",
       "      <td>81</td>\n",
       "      <td>3231</td>\n",
       "      <td>1742</td>\n",
       "      <td>Tactical</td>\n",
       "      <td>1500000</td>\n",
       "    </tr>\n",
       "  </tbody>\n",
       "</table>\n",
       "</div>"
      ],
      "text/plain": [
       "       appid                                          developer    name  \\\n",
       "6242  268500  Firaxis Games, Feral Interactive (Mac), Feral ...  XCOM 2   \n",
       "\n",
       "      positive  negative                                          publisher  \\\n",
       "6242     27944      6681  2K, Feral Interactive (Mac), Feral Interactive...   \n",
       "\n",
       "      score_rank  userscore  average_forever  median_forever  tag_name  \\\n",
       "6242        52.0         81             3231            1742  Tactical   \n",
       "\n",
       "      avg_owners  \n",
       "6242     1500000  "
      ]
     },
     "execution_count": 34,
     "metadata": {},
     "output_type": "execute_result"
    }
   ],
   "source": [
    "df_tags_2[df_tags_2['name'] == games[2]].head(1)"
   ]
  },
  {
   "cell_type": "code",
   "execution_count": 35,
   "metadata": {},
   "outputs": [
    {
     "data": {
      "text/html": [
       "<div>\n",
       "<style scoped>\n",
       "    .dataframe tbody tr th:only-of-type {\n",
       "        vertical-align: middle;\n",
       "    }\n",
       "\n",
       "    .dataframe tbody tr th {\n",
       "        vertical-align: top;\n",
       "    }\n",
       "\n",
       "    .dataframe thead th {\n",
       "        text-align: right;\n",
       "    }\n",
       "</style>\n",
       "<table border=\"1\" class=\"dataframe\">\n",
       "  <thead>\n",
       "    <tr style=\"text-align: right;\">\n",
       "      <th></th>\n",
       "      <th>appid</th>\n",
       "      <th>developer</th>\n",
       "      <th>name</th>\n",
       "      <th>positive</th>\n",
       "      <th>negative</th>\n",
       "      <th>publisher</th>\n",
       "      <th>score_rank</th>\n",
       "      <th>userscore</th>\n",
       "      <th>average_forever</th>\n",
       "      <th>median_forever</th>\n",
       "      <th>tag_name</th>\n",
       "      <th>avg_owners</th>\n",
       "    </tr>\n",
       "  </thead>\n",
       "  <tbody>\n",
       "    <tr>\n",
       "      <th>126</th>\n",
       "      <td>323190</td>\n",
       "      <td>11 bit studios</td>\n",
       "      <td>Frostpunk</td>\n",
       "      <td>21246</td>\n",
       "      <td>2836</td>\n",
       "      <td>11 bit studios</td>\n",
       "      <td>72.0</td>\n",
       "      <td>87</td>\n",
       "      <td>766</td>\n",
       "      <td>478</td>\n",
       "      <td>Simulation</td>\n",
       "      <td>1500000</td>\n",
       "    </tr>\n",
       "  </tbody>\n",
       "</table>\n",
       "</div>"
      ],
      "text/plain": [
       "      appid       developer       name  positive  negative       publisher  \\\n",
       "126  323190  11 bit studios  Frostpunk     21246      2836  11 bit studios   \n",
       "\n",
       "     score_rank  userscore  average_forever  median_forever    tag_name  \\\n",
       "126        72.0         87              766             478  Simulation   \n",
       "\n",
       "     avg_owners  \n",
       "126     1500000  "
      ]
     },
     "execution_count": 35,
     "metadata": {},
     "output_type": "execute_result"
    }
   ],
   "source": [
    "df_tags_2[df_tags_2['name'] == games[3]].head(1)"
   ]
  },
  {
   "cell_type": "code",
   "execution_count": 36,
   "metadata": {},
   "outputs": [
    {
     "data": {
      "text/html": [
       "<div>\n",
       "<style scoped>\n",
       "    .dataframe tbody tr th:only-of-type {\n",
       "        vertical-align: middle;\n",
       "    }\n",
       "\n",
       "    .dataframe tbody tr th {\n",
       "        vertical-align: top;\n",
       "    }\n",
       "\n",
       "    .dataframe thead th {\n",
       "        text-align: right;\n",
       "    }\n",
       "</style>\n",
       "<table border=\"1\" class=\"dataframe\">\n",
       "  <thead>\n",
       "    <tr style=\"text-align: right;\">\n",
       "      <th></th>\n",
       "      <th>appid</th>\n",
       "      <th>developer</th>\n",
       "      <th>name</th>\n",
       "      <th>positive</th>\n",
       "      <th>negative</th>\n",
       "      <th>publisher</th>\n",
       "      <th>score_rank</th>\n",
       "      <th>userscore</th>\n",
       "      <th>average_forever</th>\n",
       "      <th>median_forever</th>\n",
       "      <th>tag_name</th>\n",
       "      <th>avg_owners</th>\n",
       "    </tr>\n",
       "  </thead>\n",
       "  <tbody>\n",
       "  </tbody>\n",
       "</table>\n",
       "</div>"
      ],
      "text/plain": [
       "Empty DataFrame\n",
       "Columns: [appid, developer, name, positive, negative, publisher, score_rank, userscore, average_forever, median_forever, tag_name, avg_owners]\n",
       "Index: []"
      ]
     },
     "execution_count": 36,
     "metadata": {},
     "output_type": "execute_result"
    }
   ],
   "source": [
    "df_tags_2[df_tags_2['name'] == games[4]].head(1)"
   ]
  },
  {
   "cell_type": "code",
   "execution_count": 37,
   "metadata": {},
   "outputs": [
    {
     "data": {
      "text/html": [
       "<div>\n",
       "<style scoped>\n",
       "    .dataframe tbody tr th:only-of-type {\n",
       "        vertical-align: middle;\n",
       "    }\n",
       "\n",
       "    .dataframe tbody tr th {\n",
       "        vertical-align: top;\n",
       "    }\n",
       "\n",
       "    .dataframe thead th {\n",
       "        text-align: right;\n",
       "    }\n",
       "</style>\n",
       "<table border=\"1\" class=\"dataframe\">\n",
       "  <thead>\n",
       "    <tr style=\"text-align: right;\">\n",
       "      <th></th>\n",
       "      <th>appid</th>\n",
       "      <th>developer</th>\n",
       "      <th>name</th>\n",
       "      <th>positive</th>\n",
       "      <th>negative</th>\n",
       "      <th>publisher</th>\n",
       "      <th>score_rank</th>\n",
       "      <th>userscore</th>\n",
       "      <th>average_forever</th>\n",
       "      <th>median_forever</th>\n",
       "      <th>tag_name</th>\n",
       "      <th>avg_owners</th>\n",
       "    </tr>\n",
       "  </thead>\n",
       "  <tbody>\n",
       "    <tr>\n",
       "      <th>5880</th>\n",
       "      <td>620590</td>\n",
       "      <td>Destructive Creations</td>\n",
       "      <td>Ancestors Legacy</td>\n",
       "      <td>1829</td>\n",
       "      <td>640</td>\n",
       "      <td>1C Entertainment</td>\n",
       "      <td>40.0</td>\n",
       "      <td>78</td>\n",
       "      <td>611</td>\n",
       "      <td>387</td>\n",
       "      <td>RTS</td>\n",
       "      <td>75000</td>\n",
       "    </tr>\n",
       "  </tbody>\n",
       "</table>\n",
       "</div>"
      ],
      "text/plain": [
       "       appid              developer              name  positive  negative  \\\n",
       "5880  620590  Destructive Creations  Ancestors Legacy      1829       640   \n",
       "\n",
       "             publisher  score_rank  userscore  average_forever  \\\n",
       "5880  1C Entertainment        40.0         78              611   \n",
       "\n",
       "      median_forever tag_name  avg_owners  \n",
       "5880             387      RTS       75000  "
      ]
     },
     "execution_count": 37,
     "metadata": {},
     "output_type": "execute_result"
    }
   ],
   "source": [
    "df_tags_2[df_tags_2['name'] == games[5]].head(1)"
   ]
  },
  {
   "cell_type": "code",
   "execution_count": 38,
   "metadata": {},
   "outputs": [
    {
     "data": {
      "text/html": [
       "<div>\n",
       "<style scoped>\n",
       "    .dataframe tbody tr th:only-of-type {\n",
       "        vertical-align: middle;\n",
       "    }\n",
       "\n",
       "    .dataframe tbody tr th {\n",
       "        vertical-align: top;\n",
       "    }\n",
       "\n",
       "    .dataframe thead th {\n",
       "        text-align: right;\n",
       "    }\n",
       "</style>\n",
       "<table border=\"1\" class=\"dataframe\">\n",
       "  <thead>\n",
       "    <tr style=\"text-align: right;\">\n",
       "      <th></th>\n",
       "      <th>appid</th>\n",
       "      <th>developer</th>\n",
       "      <th>name</th>\n",
       "      <th>positive</th>\n",
       "      <th>negative</th>\n",
       "      <th>publisher</th>\n",
       "      <th>score_rank</th>\n",
       "      <th>userscore</th>\n",
       "      <th>average_forever</th>\n",
       "      <th>median_forever</th>\n",
       "      <th>tag_name</th>\n",
       "      <th>avg_owners</th>\n",
       "    </tr>\n",
       "  </thead>\n",
       "  <tbody>\n",
       "  </tbody>\n",
       "</table>\n",
       "</div>"
      ],
      "text/plain": [
       "Empty DataFrame\n",
       "Columns: [appid, developer, name, positive, negative, publisher, score_rank, userscore, average_forever, median_forever, tag_name, avg_owners]\n",
       "Index: []"
      ]
     },
     "execution_count": 38,
     "metadata": {},
     "output_type": "execute_result"
    }
   ],
   "source": [
    "df_tags_2[df_tags_2['name'] == games[6]].head(1)"
   ]
  },
  {
   "cell_type": "code",
   "execution_count": 39,
   "metadata": {},
   "outputs": [
    {
     "data": {
      "text/html": [
       "<div>\n",
       "<style scoped>\n",
       "    .dataframe tbody tr th:only-of-type {\n",
       "        vertical-align: middle;\n",
       "    }\n",
       "\n",
       "    .dataframe tbody tr th {\n",
       "        vertical-align: top;\n",
       "    }\n",
       "\n",
       "    .dataframe thead th {\n",
       "        text-align: right;\n",
       "    }\n",
       "</style>\n",
       "<table border=\"1\" class=\"dataframe\">\n",
       "  <thead>\n",
       "    <tr style=\"text-align: right;\">\n",
       "      <th></th>\n",
       "      <th>appid</th>\n",
       "      <th>developer</th>\n",
       "      <th>name</th>\n",
       "      <th>positive</th>\n",
       "      <th>negative</th>\n",
       "      <th>publisher</th>\n",
       "      <th>score_rank</th>\n",
       "      <th>userscore</th>\n",
       "      <th>average_forever</th>\n",
       "      <th>median_forever</th>\n",
       "      <th>tag_name</th>\n",
       "      <th>avg_owners</th>\n",
       "    </tr>\n",
       "  </thead>\n",
       "  <tbody>\n",
       "  </tbody>\n",
       "</table>\n",
       "</div>"
      ],
      "text/plain": [
       "Empty DataFrame\n",
       "Columns: [appid, developer, name, positive, negative, publisher, score_rank, userscore, average_forever, median_forever, tag_name, avg_owners]\n",
       "Index: []"
      ]
     },
     "execution_count": 39,
     "metadata": {},
     "output_type": "execute_result"
    }
   ],
   "source": [
    "df_tags_2[df_tags_2['name'] == games[7]].head(1)"
   ]
  },
  {
   "cell_type": "markdown",
   "metadata": {},
   "source": [
    "<br> Kolejnym ciekawym sprawdzeniem naszego typu wydaje się 'przekopanie' tabeli 'top100forever' w poszukiwaniu gier wydanych przez Paradox Interactive.\n",
    "<br> Do tego celu użyję biblioteki steamspypi."
   ]
  },
  {
   "cell_type": "code",
   "execution_count": 45,
   "metadata": {},
   "outputs": [],
   "source": [
    "data_request = dict()\n",
    "data_request['request'] = 'top100forever'\n",
    "\n",
    "data = steamspypi.download(data_request)"
   ]
  },
  {
   "cell_type": "code",
   "execution_count": 49,
   "metadata": {},
   "outputs": [],
   "source": [
    "data_top100 = pd.DataFrame(data).transpose()"
   ]
  },
  {
   "cell_type": "code",
   "execution_count": 50,
   "metadata": {},
   "outputs": [
    {
     "data": {
      "text/html": [
       "<div>\n",
       "<style scoped>\n",
       "    .dataframe tbody tr th:only-of-type {\n",
       "        vertical-align: middle;\n",
       "    }\n",
       "\n",
       "    .dataframe tbody tr th {\n",
       "        vertical-align: top;\n",
       "    }\n",
       "\n",
       "    .dataframe thead th {\n",
       "        text-align: right;\n",
       "    }\n",
       "</style>\n",
       "<table border=\"1\" class=\"dataframe\">\n",
       "  <thead>\n",
       "    <tr style=\"text-align: right;\">\n",
       "      <th></th>\n",
       "      <th>appid</th>\n",
       "      <th>average_2weeks</th>\n",
       "      <th>average_forever</th>\n",
       "      <th>developer</th>\n",
       "      <th>discount</th>\n",
       "      <th>initialprice</th>\n",
       "      <th>median_2weeks</th>\n",
       "      <th>median_forever</th>\n",
       "      <th>name</th>\n",
       "      <th>negative</th>\n",
       "      <th>owners</th>\n",
       "      <th>positive</th>\n",
       "      <th>price</th>\n",
       "      <th>publisher</th>\n",
       "      <th>score_rank</th>\n",
       "      <th>userscore</th>\n",
       "    </tr>\n",
       "  </thead>\n",
       "  <tbody>\n",
       "    <tr>\n",
       "      <th>255710</th>\n",
       "      <td>255710</td>\n",
       "      <td>314</td>\n",
       "      <td>2079</td>\n",
       "      <td>Colossal Order Ltd.</td>\n",
       "      <td>75</td>\n",
       "      <td>2999</td>\n",
       "      <td>98</td>\n",
       "      <td>655</td>\n",
       "      <td>Cities: Skylines</td>\n",
       "      <td>5685</td>\n",
       "      <td>2,000,000 .. 5,000,000</td>\n",
       "      <td>65362</td>\n",
       "      <td>749</td>\n",
       "      <td>Paradox Interactive</td>\n",
       "      <td>79</td>\n",
       "      <td>91</td>\n",
       "    </tr>\n",
       "  </tbody>\n",
       "</table>\n",
       "</div>"
      ],
      "text/plain": [
       "         appid average_2weeks average_forever            developer discount  \\\n",
       "255710  255710            314            2079  Colossal Order Ltd.       75   \n",
       "\n",
       "       initialprice median_2weeks median_forever              name negative  \\\n",
       "255710         2999            98            655  Cities: Skylines     5685   \n",
       "\n",
       "                        owners positive price            publisher score_rank  \\\n",
       "255710  2,000,000 .. 5,000,000    65362   749  Paradox Interactive         79   \n",
       "\n",
       "       userscore  \n",
       "255710        91  "
      ]
     },
     "execution_count": 50,
     "metadata": {},
     "output_type": "execute_result"
    }
   ],
   "source": [
    "data_top100[data_top100['publisher'] == 'Paradox Interactive']"
   ]
  },
  {
   "cell_type": "code",
   "execution_count": 51,
   "metadata": {},
   "outputs": [
    {
     "data": {
      "text/html": [
       "<div>\n",
       "<style scoped>\n",
       "    .dataframe tbody tr th:only-of-type {\n",
       "        vertical-align: middle;\n",
       "    }\n",
       "\n",
       "    .dataframe tbody tr th {\n",
       "        vertical-align: top;\n",
       "    }\n",
       "\n",
       "    .dataframe thead th {\n",
       "        text-align: right;\n",
       "    }\n",
       "</style>\n",
       "<table border=\"1\" class=\"dataframe\">\n",
       "  <thead>\n",
       "    <tr style=\"text-align: right;\">\n",
       "      <th></th>\n",
       "      <th>appid</th>\n",
       "      <th>average_2weeks</th>\n",
       "      <th>average_forever</th>\n",
       "      <th>developer</th>\n",
       "      <th>discount</th>\n",
       "      <th>initialprice</th>\n",
       "      <th>median_2weeks</th>\n",
       "      <th>median_forever</th>\n",
       "      <th>name</th>\n",
       "      <th>negative</th>\n",
       "      <th>owners</th>\n",
       "      <th>positive</th>\n",
       "      <th>price</th>\n",
       "      <th>publisher</th>\n",
       "      <th>score_rank</th>\n",
       "      <th>userscore</th>\n",
       "    </tr>\n",
       "  </thead>\n",
       "  <tbody>\n",
       "  </tbody>\n",
       "</table>\n",
       "</div>"
      ],
      "text/plain": [
       "Empty DataFrame\n",
       "Columns: [appid, average_2weeks, average_forever, developer, discount, initialprice, median_2weeks, median_forever, name, negative, owners, positive, price, publisher, score_rank, userscore]\n",
       "Index: []"
      ]
     },
     "execution_count": 51,
     "metadata": {},
     "output_type": "execute_result"
    }
   ],
   "source": [
    "data_top100[data_top100['publisher'] == 'Slitherine Ltd.']"
   ]
  },
  {
   "cell_type": "code",
   "execution_count": 52,
   "metadata": {},
   "outputs": [
    {
     "data": {
      "text/html": [
       "<div>\n",
       "<style scoped>\n",
       "    .dataframe tbody tr th:only-of-type {\n",
       "        vertical-align: middle;\n",
       "    }\n",
       "\n",
       "    .dataframe tbody tr th {\n",
       "        vertical-align: top;\n",
       "    }\n",
       "\n",
       "    .dataframe thead th {\n",
       "        text-align: right;\n",
       "    }\n",
       "</style>\n",
       "<table border=\"1\" class=\"dataframe\">\n",
       "  <thead>\n",
       "    <tr style=\"text-align: right;\">\n",
       "      <th></th>\n",
       "      <th>appid</th>\n",
       "      <th>average_2weeks</th>\n",
       "      <th>average_forever</th>\n",
       "      <th>developer</th>\n",
       "      <th>discount</th>\n",
       "      <th>initialprice</th>\n",
       "      <th>median_2weeks</th>\n",
       "      <th>median_forever</th>\n",
       "      <th>name</th>\n",
       "      <th>negative</th>\n",
       "      <th>owners</th>\n",
       "      <th>positive</th>\n",
       "      <th>price</th>\n",
       "      <th>publisher</th>\n",
       "      <th>score_rank</th>\n",
       "      <th>userscore</th>\n",
       "    </tr>\n",
       "  </thead>\n",
       "  <tbody>\n",
       "  </tbody>\n",
       "</table>\n",
       "</div>"
      ],
      "text/plain": [
       "Empty DataFrame\n",
       "Columns: [appid, average_2weeks, average_forever, developer, discount, initialprice, median_2weeks, median_forever, name, negative, owners, positive, price, publisher, score_rank, userscore]\n",
       "Index: []"
      ]
     },
     "execution_count": 52,
     "metadata": {},
     "output_type": "execute_result"
    }
   ],
   "source": [
    "data_top100[data_top100['publisher'] == 'Assemble Entertainment']"
   ]
  },
  {
   "cell_type": "markdown",
   "metadata": {},
   "source": [
    "<b> Podsumowując,  wydawca Paradox Interactive jest bardzo dobrym wyborem ponieważ:\n",
    "\n",
    "   * posiada bardzo duże doświadczenie w segmencie gier opisanych podanymi tagami,\n",
    "   * dwie z podanych jako podobne gier zostało wydane przez Paradox Interactive,\n",
    "   * w przeciwieństwie do innych doświadczonych wydawców Paradox Interactive posiada duży sukces na swoim koncie czyli grę Cities: Skylines, która     uplasowała się w TOP 100 gier według serwisu SteamSpy."
   ]
  },
  {
   "cell_type": "code",
   "execution_count": null,
   "metadata": {},
   "outputs": [],
   "source": []
  }
 ],
 "metadata": {
  "kernelspec": {
   "display_name": "Python 3",
   "language": "python",
   "name": "python3"
  },
  "language_info": {
   "codemirror_mode": {
    "name": "ipython",
    "version": 3
   },
   "file_extension": ".py",
   "mimetype": "text/x-python",
   "name": "python",
   "nbconvert_exporter": "python",
   "pygments_lexer": "ipython3",
   "version": "3.6.8"
  }
 },
 "nbformat": 4,
 "nbformat_minor": 2
}
